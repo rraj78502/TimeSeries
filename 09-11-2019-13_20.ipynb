{
 "cells": [
  {
   "cell_type": "code",
   "execution_count": 1,
   "metadata": {},
   "outputs": [
    {
     "data": {
      "text/plain": [
       "3"
      ]
     },
     "execution_count": 1,
     "metadata": {},
     "output_type": "execute_result"
    }
   ],
   "source": [
    "def add_one(number):\n",
    "    return number+1\n",
    "add_one(2)"
   ]
  },
  {
   "cell_type": "code",
   "execution_count": 2,
   "metadata": {},
   "outputs": [],
   "source": [
    "def say_hello(name):\n",
    "    return f\"Hello {name}\"\n",
    "\n",
    "def be_awesome(name):\n",
    "    return f\"Yo {name}, together we are the awesomest!\"\n",
    "\n",
    "def greet_bob(greeter_func):\n",
    "    return greeter_func(\"Bob\")"
   ]
  },
  {
   "cell_type": "code",
   "execution_count": 3,
   "metadata": {},
   "outputs": [
    {
     "data": {
      "text/plain": [
       "'Hello Bob'"
      ]
     },
     "execution_count": 3,
     "metadata": {},
     "output_type": "execute_result"
    }
   ],
   "source": [
    "greet_bob(say_hello)"
   ]
  },
  {
   "cell_type": "code",
   "execution_count": 4,
   "metadata": {},
   "outputs": [
    {
     "data": {
      "text/plain": [
       "'Yo Bob, together we are the awesomest!'"
      ]
     },
     "execution_count": 4,
     "metadata": {},
     "output_type": "execute_result"
    }
   ],
   "source": [
    "greet_bob(be_awesome)"
   ]
  },
  {
   "cell_type": "code",
   "execution_count": 5,
   "metadata": {},
   "outputs": [],
   "source": [
    "def parent():\n",
    "    print(\"Printing from the parent() function\")\n",
    "    \n",
    "    def first_child():\n",
    "        print(\"Printing from the first_child() function\")\n",
    "    \n",
    "    def second_child():\n",
    "        print(\"Printing from the second_child() function\")\n",
    "        \n",
    "    second_child()\n",
    "    first_child()\n",
    "    "
   ]
  },
  {
   "cell_type": "code",
   "execution_count": 6,
   "metadata": {},
   "outputs": [
    {
     "name": "stdout",
     "output_type": "stream",
     "text": [
      "Printing from the parent() function\n",
      "Printing from the second_child() function\n",
      "Printing from the first_child() function\n"
     ]
    }
   ],
   "source": [
    "parent()"
   ]
  },
  {
   "cell_type": "code",
   "execution_count": 7,
   "metadata": {},
   "outputs": [],
   "source": [
    "def parent(num):\n",
    "    \n",
    "    def first_child():\n",
    "        return \"Hi, i am Emma\"\n",
    "    \n",
    "    def second_child():\n",
    "        return \"Call me Liam\"\n",
    "    \n",
    "    if num == 1:\n",
    "        return first_child\n",
    "    else:\n",
    "        return second_child"
   ]
  },
  {
   "cell_type": "code",
   "execution_count": 8,
   "metadata": {},
   "outputs": [],
   "source": [
    "first=parent(1)\n",
    "second=parent(2)"
   ]
  },
  {
   "cell_type": "code",
   "execution_count": 9,
   "metadata": {},
   "outputs": [
    {
     "data": {
      "text/plain": [
       "<function __main__.parent.<locals>.first_child()>"
      ]
     },
     "execution_count": 9,
     "metadata": {},
     "output_type": "execute_result"
    }
   ],
   "source": [
    "first"
   ]
  },
  {
   "cell_type": "code",
   "execution_count": 10,
   "metadata": {},
   "outputs": [
    {
     "data": {
      "text/plain": [
       "<function __main__.parent.<locals>.second_child()>"
      ]
     },
     "execution_count": 10,
     "metadata": {},
     "output_type": "execute_result"
    }
   ],
   "source": [
    "second"
   ]
  },
  {
   "cell_type": "code",
   "execution_count": 11,
   "metadata": {},
   "outputs": [
    {
     "data": {
      "text/plain": [
       "'Hi, i am Emma'"
      ]
     },
     "execution_count": 11,
     "metadata": {},
     "output_type": "execute_result"
    }
   ],
   "source": [
    "first()"
   ]
  },
  {
   "cell_type": "code",
   "execution_count": 12,
   "metadata": {},
   "outputs": [
    {
     "data": {
      "text/plain": [
       "'Call me Liam'"
      ]
     },
     "execution_count": 12,
     "metadata": {},
     "output_type": "execute_result"
    }
   ],
   "source": [
    "second()"
   ]
  },
  {
   "cell_type": "code",
   "execution_count": 15,
   "metadata": {},
   "outputs": [],
   "source": [
    "def my_decorator(func):\n",
    "    def wrapper():\n",
    "        print(\"Something is happening before the function is called.\")\n",
    "        func()\n",
    "        print(\"Something is happening after the function is called.\")\n",
    "    return wrapper\n",
    "    \n",
    "def say_whee():\n",
    "    print(\"Whee!\")\n",
    "    \n",
    "say_bye = my_decorator(say_whee)\n",
    "say_whee = my_decorator(say_whee)"
   ]
  },
  {
   "cell_type": "code",
   "execution_count": 16,
   "metadata": {},
   "outputs": [
    {
     "name": "stdout",
     "output_type": "stream",
     "text": [
      "Something is happening before the function is called.\n",
      "Whee!\n",
      "Something is happening after the function is called.\n"
     ]
    }
   ],
   "source": [
    "say_whee()"
   ]
  },
  {
   "cell_type": "code",
   "execution_count": 17,
   "metadata": {},
   "outputs": [
    {
     "name": "stdout",
     "output_type": "stream",
     "text": [
      "Something is happening before the function is called.\n",
      "Whee!\n",
      "Something is happening after the function is called.\n"
     ]
    }
   ],
   "source": [
    "say_bye()"
   ]
  },
  {
   "cell_type": "code",
   "execution_count": 18,
   "metadata": {},
   "outputs": [],
   "source": [
    "say_bye = my_decorator(say_whee)"
   ]
  },
  {
   "cell_type": "code",
   "execution_count": 19,
   "metadata": {},
   "outputs": [
    {
     "name": "stdout",
     "output_type": "stream",
     "text": [
      "Something is happening before the function is called.\n",
      "Something is happening before the function is called.\n",
      "Whee!\n",
      "Something is happening after the function is called.\n",
      "Something is happening after the function is called.\n"
     ]
    }
   ],
   "source": [
    "say_bye()"
   ]
  },
  {
   "cell_type": "code",
   "execution_count": 20,
   "metadata": {},
   "outputs": [
    {
     "data": {
      "text/plain": [
       "<function __main__.my_decorator.<locals>.wrapper()>"
      ]
     },
     "execution_count": 20,
     "metadata": {},
     "output_type": "execute_result"
    }
   ],
   "source": [
    "say_whee"
   ]
  },
  {
   "cell_type": "code",
   "execution_count": 21,
   "metadata": {},
   "outputs": [],
   "source": [
    "from datetime import datetime\n",
    "\n",
    "def not_during_the_night(func):\n",
    "    def wrapper():\n",
    "        if 7 <= datetime.now().hour < 22:\n",
    "            func()\n",
    "        else:\n",
    "            pass\n",
    "    return wrapper\n",
    "def say_whee():\n",
    "    print(\"Whee!\")\n",
    "\n",
    "say_whee = not_during_the_night(say_whee)"
   ]
  },
  {
   "cell_type": "code",
   "execution_count": 22,
   "metadata": {},
   "outputs": [
    {
     "name": "stdout",
     "output_type": "stream",
     "text": [
      "Whee!\n"
     ]
    }
   ],
   "source": [
    "say_whee()"
   ]
  },
  {
   "cell_type": "code",
   "execution_count": 23,
   "metadata": {},
   "outputs": [],
   "source": [
    "def my_decorator(func):\n",
    "    def wrapper():\n",
    "        print(\"Something is happening before the function is called.\")\n",
    "        func()\n",
    "        print(\"something is happening after the function is called.\")\n",
    "    return wrapper\n",
    "\n",
    "@my_decorator\n",
    "def say_whee():\n",
    "    print(\"Whee!\")"
   ]
  },
  {
   "cell_type": "code",
   "execution_count": 24,
   "metadata": {},
   "outputs": [
    {
     "name": "stdout",
     "output_type": "stream",
     "text": [
      "Something is happening before the function is called.\n",
      "Whee!\n",
      "something is happening after the function is called.\n"
     ]
    }
   ],
   "source": [
    "say_whee()"
   ]
  },
  {
   "cell_type": "code",
   "execution_count": 25,
   "metadata": {},
   "outputs": [],
   "source": [
    "def do_twice(func):\n",
    "    def wrapper_do_twice():\n",
    "        func()\n",
    "        func()\n",
    "    return wrapper_do_twice\n",
    "@do_twice\n",
    "def say_whee():\n",
    "    print(\"Whee!\")"
   ]
  },
  {
   "cell_type": "code",
   "execution_count": 26,
   "metadata": {},
   "outputs": [
    {
     "name": "stdout",
     "output_type": "stream",
     "text": [
      "Whee!\n",
      "Whee!\n"
     ]
    }
   ],
   "source": [
    "say_whee()"
   ]
  },
  {
   "cell_type": "code",
   "execution_count": 28,
   "metadata": {},
   "outputs": [
    {
     "ename": "TypeError",
     "evalue": "wrapper_do_twice() takes 0 positional arguments but 1 was given",
     "output_type": "error",
     "traceback": [
      "\u001b[1;31m---------------------------------------------------------------------------\u001b[0m",
      "\u001b[1;31mTypeError\u001b[0m                                 Traceback (most recent call last)",
      "\u001b[1;32m<ipython-input-28-47e9a6e46766>\u001b[0m in \u001b[0;36m<module>\u001b[1;34m\u001b[0m\n\u001b[0;32m      3\u001b[0m     \u001b[0mprint\u001b[0m\u001b[1;33m(\u001b[0m\u001b[1;34mf\"Hello {name}\"\u001b[0m\u001b[1;33m)\u001b[0m\u001b[1;33m\u001b[0m\u001b[1;33m\u001b[0m\u001b[0m\n\u001b[0;32m      4\u001b[0m \u001b[1;33m\u001b[0m\u001b[0m\n\u001b[1;32m----> 5\u001b[1;33m \u001b[0mgreet\u001b[0m\u001b[1;33m(\u001b[0m\u001b[1;34m\"World\"\u001b[0m\u001b[1;33m)\u001b[0m\u001b[1;33m\u001b[0m\u001b[1;33m\u001b[0m\u001b[0m\n\u001b[0m",
      "\u001b[1;31mTypeError\u001b[0m: wrapper_do_twice() takes 0 positional arguments but 1 was given"
     ]
    }
   ],
   "source": [
    "@do_twice\n",
    "def greet(name):\n",
    "    print(f\"Hello {name}\")\n",
    "          \n",
    "greet(\"World\")"
   ]
  },
  {
   "cell_type": "code",
   "execution_count": 29,
   "metadata": {},
   "outputs": [],
   "source": [
    "def do_twice(func):\n",
    "    def wrapper_do_twice(*args,**kwargs):\n",
    "        func(*args,**kwargs)\n",
    "        func(*args,**kwargs)\n",
    "    return wrapper_do_twice\n",
    "@do_twice\n",
    "def say_whee():\n",
    "    print(\"Whee!\")\n",
    "\n",
    "@do_twice\n",
    "def greet(name):\n",
    "    print(f\"Hello {name}\")\n"
   ]
  },
  {
   "cell_type": "code",
   "execution_count": 30,
   "metadata": {},
   "outputs": [
    {
     "name": "stdout",
     "output_type": "stream",
     "text": [
      "Whee!\n",
      "Whee!\n"
     ]
    }
   ],
   "source": [
    "say_whee()"
   ]
  },
  {
   "cell_type": "code",
   "execution_count": 32,
   "metadata": {},
   "outputs": [
    {
     "name": "stdout",
     "output_type": "stream",
     "text": [
      "Hello suman\n",
      "Hello suman\n"
     ]
    }
   ],
   "source": [
    "greet(\"suman\")"
   ]
  },
  {
   "cell_type": "code",
   "execution_count": 33,
   "metadata": {},
   "outputs": [],
   "source": [
    "@do_twice\n",
    "def return_greeting(name):\n",
    "    print(\"Creating greeting\")\n",
    "    return f\"Hi {name}\""
   ]
  },
  {
   "cell_type": "code",
   "execution_count": 34,
   "metadata": {},
   "outputs": [
    {
     "name": "stdout",
     "output_type": "stream",
     "text": [
      "Creating greeting\n",
      "Creating greeting\n"
     ]
    }
   ],
   "source": [
    "hi_adam = return_greeting(\"Adam\")\n",
    "hi_adam"
   ]
  },
  {
   "cell_type": "code",
   "execution_count": 35,
   "metadata": {},
   "outputs": [],
   "source": [
    "def do_twice(func):\n",
    "    def wrapper_do_twice(*args,**kwargs):\n",
    "        func(*args,**kwargs)\n",
    "        return func(*args,**kwargs)\n",
    "    return wrapper_do_twice"
   ]
  },
  {
   "cell_type": "code",
   "execution_count": 36,
   "metadata": {},
   "outputs": [],
   "source": [
    "@do_twice\n",
    "def return_greeting(name):\n",
    "    print(\"Creating greeting\")\n",
    "    return f\"Hi {name}\"\n"
   ]
  },
  {
   "cell_type": "code",
   "execution_count": 37,
   "metadata": {},
   "outputs": [
    {
     "name": "stdout",
     "output_type": "stream",
     "text": [
      "Creating greeting\n",
      "Creating greeting\n"
     ]
    },
    {
     "data": {
      "text/plain": [
       "'Hi Adam'"
      ]
     },
     "execution_count": 37,
     "metadata": {},
     "output_type": "execute_result"
    }
   ],
   "source": [
    "hi_adam = return_greeting(\"Adam\")\n",
    "hi_adam"
   ]
  },
  {
   "cell_type": "code",
   "execution_count": 38,
   "metadata": {},
   "outputs": [
    {
     "data": {
      "text/plain": [
       "<function print>"
      ]
     },
     "execution_count": 38,
     "metadata": {},
     "output_type": "execute_result"
    }
   ],
   "source": [
    "print"
   ]
  },
  {
   "cell_type": "code",
   "execution_count": 39,
   "metadata": {},
   "outputs": [
    {
     "data": {
      "text/plain": [
       "'print'"
      ]
     },
     "execution_count": 39,
     "metadata": {},
     "output_type": "execute_result"
    }
   ],
   "source": [
    "print.__name__"
   ]
  },
  {
   "cell_type": "code",
   "execution_count": 40,
   "metadata": {},
   "outputs": [
    {
     "name": "stdout",
     "output_type": "stream",
     "text": [
      "Help on built-in function print in module builtins:\n",
      "\n",
      "print(...)\n",
      "    print(value, ..., sep=' ', end='\\n', file=sys.stdout, flush=False)\n",
      "    \n",
      "    Prints the values to a stream, or to sys.stdout by default.\n",
      "    Optional keyword arguments:\n",
      "    file:  a file-like object (stream); defaults to the current sys.stdout.\n",
      "    sep:   string inserted between values, default a space.\n",
      "    end:   string appended after the last value, default a newline.\n",
      "    flush: whether to forcibly flush the stream.\n",
      "\n"
     ]
    }
   ],
   "source": [
    "help(print)"
   ]
  },
  {
   "cell_type": "code",
   "execution_count": 41,
   "metadata": {},
   "outputs": [
    {
     "data": {
      "text/plain": [
       "<function __main__.do_twice.<locals>.wrapper_do_twice(*args, **kwargs)>"
      ]
     },
     "execution_count": 41,
     "metadata": {},
     "output_type": "execute_result"
    }
   ],
   "source": [
    "say_whee"
   ]
  },
  {
   "cell_type": "code",
   "execution_count": 42,
   "metadata": {},
   "outputs": [
    {
     "data": {
      "text/plain": [
       "'wrapper_do_twice'"
      ]
     },
     "execution_count": 42,
     "metadata": {},
     "output_type": "execute_result"
    }
   ],
   "source": [
    "say_whee.__name__"
   ]
  },
  {
   "cell_type": "code",
   "execution_count": 43,
   "metadata": {},
   "outputs": [
    {
     "name": "stdout",
     "output_type": "stream",
     "text": [
      "Help on function wrapper_do_twice in module __main__:\n",
      "\n",
      "wrapper_do_twice(*args, **kwargs)\n",
      "\n"
     ]
    }
   ],
   "source": [
    "help(say_whee)"
   ]
  },
  {
   "cell_type": "code",
   "execution_count": 44,
   "metadata": {},
   "outputs": [],
   "source": [
    "import functools\n",
    "\n",
    "def do_twice(func):\n",
    "    @functools.wraps(func)\n",
    "    def wrapper_do_twice(*args,**kwargs):\n",
    "        func(*args,**kwargs)\n",
    "        return func(*args,**kwargs)\n",
    "    return wrapper_do_twice\n"
   ]
  },
  {
   "cell_type": "code",
   "execution_count": 45,
   "metadata": {},
   "outputs": [],
   "source": [
    "@do_twice\n",
    "def say_whee():\n",
    "    print(\"Whee!\")"
   ]
  },
  {
   "cell_type": "code",
   "execution_count": 46,
   "metadata": {},
   "outputs": [
    {
     "data": {
      "text/plain": [
       "<function __main__.say_whee()>"
      ]
     },
     "execution_count": 46,
     "metadata": {},
     "output_type": "execute_result"
    }
   ],
   "source": [
    "say_whee"
   ]
  },
  {
   "cell_type": "code",
   "execution_count": 47,
   "metadata": {},
   "outputs": [
    {
     "data": {
      "text/plain": [
       "'say_whee'"
      ]
     },
     "execution_count": 47,
     "metadata": {},
     "output_type": "execute_result"
    }
   ],
   "source": [
    "say_whee.__name__"
   ]
  },
  {
   "cell_type": "code",
   "execution_count": 48,
   "metadata": {},
   "outputs": [
    {
     "name": "stdout",
     "output_type": "stream",
     "text": [
      "Help on function say_whee in module __main__:\n",
      "\n",
      "say_whee()\n",
      "\n"
     ]
    }
   ],
   "source": [
    "help(say_whee)"
   ]
  },
  {
   "cell_type": "code",
   "execution_count": 49,
   "metadata": {},
   "outputs": [],
   "source": [
    "import functools\n",
    "\n",
    "def decorator(func):\n",
    "    @functools.wraps(func)\n",
    "    def wrapper_decorator(*args,**kwargs):\n",
    "        #Do something before\n",
    "        value = func(*args,**kwargs)\n",
    "        #Do something after\n",
    "        return value\n",
    "    return wrapper_decorator\n",
    "        \n",
    "    "
   ]
  },
  {
   "cell_type": "code",
   "execution_count": 50,
   "metadata": {},
   "outputs": [],
   "source": [
    "import functools\n",
    "import time\n",
    "\n",
    "def timer(func):\n",
    "    \"\"\"Print the runtime of the decorated function\"\"\"\n",
    "    @functools.wraps(func)\n",
    "    def wrapper_timer(*args,**kwargs):\n",
    "        start_time = time.perf_counter()\n",
    "        value = func(*args,**kwargs)\n",
    "        end_time = time.perf_counter()\n",
    "        run_time = end_time-start_time\n",
    "        print(f\"Finished {func.__name__!r} in {run_time:.4f} secs\")\n",
    "        return value\n",
    "    return wrapper_timer\n",
    "@timer\n",
    "def waste_some_time(num_times):\n",
    "    for _ in range(num_times):\n",
    "        sum([i**2 for i in range(1000)])\n",
    "        "
   ]
  },
  {
   "cell_type": "code",
   "execution_count": 51,
   "metadata": {},
   "outputs": [
    {
     "name": "stdout",
     "output_type": "stream",
     "text": [
      "Finished 'waste_some_time' in 0.0021 secs\n"
     ]
    }
   ],
   "source": [
    "waste_some_time(1)"
   ]
  },
  {
   "cell_type": "code",
   "execution_count": 52,
   "metadata": {},
   "outputs": [
    {
     "name": "stdout",
     "output_type": "stream",
     "text": [
      "Finished 'waste_some_time' in 0.8591 secs\n"
     ]
    }
   ],
   "source": [
    "waste_some_time(999)"
   ]
  },
  {
   "cell_type": "code",
   "execution_count": 53,
   "metadata": {},
   "outputs": [],
   "source": [
    "import functools\n",
    "\n",
    "def debug(func):\n",
    "    \"\"\"Print the function signature and return value\"\"\"\n",
    "    @functools.wraps(func)\n",
    "    def wrapper_debug(*args,**kwargs):\n",
    "        args_repr = [repr(a) for a in args]\n",
    "        kwargs_repr = [f\"{k}={v!r}\" for k,v in kwargs.items()]\n",
    "        signature = \", \".join(args_repr + kwargs_repr)\n",
    "        print(f\"Calling {func.__name__}({signature})\")\n",
    "        value = func(*args,**kwargs)\n",
    "        print(f\"{func.__name__!r} returned {value!r}\")\n",
    "        return value\n",
    "    return wrapper_debug\n",
    "@debug\n",
    "def make_greeting(name, age=None):\n",
    "    if age is None:\n",
    "        return f\"Howdy {name}\"\n",
    "    else:\n",
    "        return f\"Whoa {name}! {age} already, you are growing up\""
   ]
  },
  {
   "cell_type": "code",
   "execution_count": 54,
   "metadata": {},
   "outputs": [
    {
     "name": "stdout",
     "output_type": "stream",
     "text": [
      "Calling make_greeting('Benjamin')\n",
      "'make_greeting' returned 'Howdy Benjamin'\n"
     ]
    },
    {
     "data": {
      "text/plain": [
       "'Howdy Benjamin'"
      ]
     },
     "execution_count": 54,
     "metadata": {},
     "output_type": "execute_result"
    }
   ],
   "source": [
    "make_greeting(\"Benjamin\")"
   ]
  },
  {
   "cell_type": "code",
   "execution_count": 55,
   "metadata": {},
   "outputs": [
    {
     "name": "stdout",
     "output_type": "stream",
     "text": [
      "Calling make_greeting('Richard', age=112)\n",
      "'make_greeting' returned 'Whoa Richard! 112 already, you are growing up'\n"
     ]
    },
    {
     "data": {
      "text/plain": [
       "'Whoa Richard! 112 already, you are growing up'"
      ]
     },
     "execution_count": 55,
     "metadata": {},
     "output_type": "execute_result"
    }
   ],
   "source": [
    "make_greeting(\"Richard\", age=112)"
   ]
  },
  {
   "cell_type": "code",
   "execution_count": 56,
   "metadata": {},
   "outputs": [
    {
     "name": "stdout",
     "output_type": "stream",
     "text": [
      "Calling make_greeting(name='Dorrisle', age=116)\n",
      "'make_greeting' returned 'Whoa Dorrisle! 116 already, you are growing up'\n"
     ]
    },
    {
     "data": {
      "text/plain": [
       "'Whoa Dorrisle! 116 already, you are growing up'"
      ]
     },
     "execution_count": 56,
     "metadata": {},
     "output_type": "execute_result"
    }
   ],
   "source": [
    "make_greeting(name=\"Dorrisle\",age=116)"
   ]
  },
  {
   "cell_type": "code",
   "execution_count": 57,
   "metadata": {},
   "outputs": [],
   "source": [
    "import math\n",
    "\n",
    "math.factorial = debug(math.factorial)\n",
    "\n",
    "def approximate_e(terms = 18):\n",
    "    return sum(1/math.factorial(n) for n in range(terms))\n"
   ]
  },
  {
   "cell_type": "code",
   "execution_count": 58,
   "metadata": {},
   "outputs": [
    {
     "name": "stdout",
     "output_type": "stream",
     "text": [
      "Calling factorial(0)\n",
      "'factorial' returned 1\n",
      "Calling factorial(1)\n",
      "'factorial' returned 1\n",
      "Calling factorial(2)\n",
      "'factorial' returned 2\n",
      "Calling factorial(3)\n",
      "'factorial' returned 6\n",
      "Calling factorial(4)\n",
      "'factorial' returned 24\n"
     ]
    },
    {
     "data": {
      "text/plain": [
       "2.708333333333333"
      ]
     },
     "execution_count": 58,
     "metadata": {},
     "output_type": "execute_result"
    }
   ],
   "source": [
    "approximate_e(5)"
   ]
  },
  {
   "cell_type": "code",
   "execution_count": 63,
   "metadata": {},
   "outputs": [],
   "source": [
    "import functools\n",
    "import time\n",
    "\n",
    "def slow_down(func):\n",
    "    @functools.wraps(func)\n",
    "    def wrapper_slow_down(*args,**kwargs):\n",
    "        time.sleep(1)\n",
    "        return func(*args,**kwargs)\n",
    "    return wrapper_slow_down\n",
    "@slow_down\n",
    "def countdown(from_number):\n",
    "    if from_number < 1:\n",
    "        print(\"Liftoff!\")\n",
    "    else:\n",
    "        print(from_number)\n",
    "        countdown(from_number-1)\n",
    "        "
   ]
  },
  {
   "cell_type": "code",
   "execution_count": 64,
   "metadata": {},
   "outputs": [
    {
     "name": "stdout",
     "output_type": "stream",
     "text": [
      "3\n",
      "2\n",
      "1\n",
      "Liftoff!\n"
     ]
    }
   ],
   "source": [
    "countdown(3)"
   ]
  },
  {
   "cell_type": "code",
   "execution_count": 66,
   "metadata": {},
   "outputs": [],
   "source": [
    "import random\n",
    "PLUGINS = dict()\n",
    "\n",
    "def register(func):\n",
    "    \"\"\"Register a function as a plug-in\"\"\"\n",
    "    PLUGINS[func.__name__] = func\n",
    "    return func\n",
    "\n",
    "@register\n",
    "def say_hello(name):\n",
    "    return f\"Hello {name}\"\n",
    "\n",
    "@register\n",
    "def be_awesome(name):\n",
    "    return f\"Yo {name}, together we are the awesomest!\"\n",
    "\n",
    "def randomly_greet(name):\n",
    "    greeter,greeter_func = random.choice(list(PLUGINS.items()))\n",
    "    print(f\"Using {greeter!r}\")\n",
    "    return greeter_func(name)"
   ]
  },
  {
   "cell_type": "code",
   "execution_count": 67,
   "metadata": {},
   "outputs": [
    {
     "data": {
      "text/plain": [
       "{'say_hello': <function __main__.say_hello(name)>,\n",
       " 'be_awesome': <function __main__.be_awesome(name)>}"
      ]
     },
     "execution_count": 67,
     "metadata": {},
     "output_type": "execute_result"
    }
   ],
   "source": [
    "PLUGINS"
   ]
  },
  {
   "cell_type": "code",
   "execution_count": 68,
   "metadata": {},
   "outputs": [
    {
     "name": "stdout",
     "output_type": "stream",
     "text": [
      "Using 'say_hello'\n"
     ]
    },
    {
     "data": {
      "text/plain": [
       "'Hello Alice'"
      ]
     },
     "execution_count": 68,
     "metadata": {},
     "output_type": "execute_result"
    }
   ],
   "source": [
    "randomly_greet(\"Alice\")"
   ]
  },
  {
   "cell_type": "code",
   "execution_count": 70,
   "metadata": {},
   "outputs": [
    {
     "name": "stdout",
     "output_type": "stream",
     "text": [
      "Using 'be_awesome'\n"
     ]
    },
    {
     "data": {
      "text/plain": [
       "'Yo Alice, together we are the awesomest!'"
      ]
     },
     "execution_count": 70,
     "metadata": {},
     "output_type": "execute_result"
    }
   ],
   "source": [
    "randomly_greet(\"Alice\")"
   ]
  },
  {
   "cell_type": "code",
   "execution_count": 71,
   "metadata": {},
   "outputs": [
    {
     "data": {
      "text/plain": [
       "('be_awesome', <function __main__.be_awesome(name)>)"
      ]
     },
     "execution_count": 71,
     "metadata": {},
     "output_type": "execute_result"
    }
   ],
   "source": [
    "random.choice(list(PLUGINS.items()))"
   ]
  },
  {
   "cell_type": "code",
   "execution_count": 72,
   "metadata": {},
   "outputs": [
    {
     "data": {
      "text/plain": [
       "{'__name__': '__main__',\n",
       " '__doc__': 'Automatically created module for IPython interactive environment',\n",
       " '__package__': None,\n",
       " '__loader__': None,\n",
       " '__spec__': None,\n",
       " '__builtin__': <module 'builtins' (built-in)>,\n",
       " '__builtins__': <module 'builtins' (built-in)>,\n",
       " '_ih': ['',\n",
       "  'def add_one(number):\\n    return number+1\\nadd_one(2)',\n",
       "  'def say_hello(name):\\n    return f\"Hello {name}\"\\n\\ndef be_awesome(name):\\n    return f\"Yo {name}, together we are the awesomest!\"\\n\\ndef greet_bob(greeter_func):\\n    return greeter_func(\"Bob\")',\n",
       "  'greet_bob(say_hello)',\n",
       "  'greet_bob(be_awesome)',\n",
       "  'def parent():\\n    print(\"Printing from the parent() function\")\\n    \\n    def first_child():\\n        print(\"Printing from the first_child() function\")\\n    \\n    def second_child():\\n        print(\"Printing from the second_child() function\")\\n        \\n    second_child()\\n    first_child()\\n    ',\n",
       "  'parent()',\n",
       "  'def parent(num):\\n    \\n    def first_child():\\n        return \"Hi, i am Emma\"\\n    \\n    def second_child():\\n        return \"Call me Liam\"\\n    \\n    if num == 1:\\n        return first_child\\n    else:\\n        return second_child',\n",
       "  'first=parent(1)\\nsecond=parent(2)',\n",
       "  'first',\n",
       "  'second',\n",
       "  'first()',\n",
       "  'second()',\n",
       "  'def my_decorator(func):\\n    def wrapper():\\n        print(\"Something is happening before the function is called.\")\\n        func()\\n        print(\"Something is happening after the function is called.\")\\n    return wrapper\\n    \\ndef say_whee():\\n    print(\"Whee!\")\\n\\nsay_whee = my_decorator(say_whee)',\n",
       "  'say_whee()',\n",
       "  'def my_decorator(func):\\n    def wrapper():\\n        print(\"Something is happening before the function is called.\")\\n        func()\\n        print(\"Something is happening after the function is called.\")\\n    return wrapper\\n    \\ndef say_whee():\\n    print(\"Whee!\")\\n    \\nsay_bye = my_decorator(say_whee)\\nsay_whee = my_decorator(say_whee)',\n",
       "  'say_whee()',\n",
       "  'say_bye()',\n",
       "  'say_bye = my_decorator(say_whee)',\n",
       "  'say_bye()',\n",
       "  'say_whee',\n",
       "  'from datetime import datetime\\n\\ndef not_during_the_night(func):\\n    def wrapper():\\n        if 7 <= datetime.now().hour < 22:\\n            func()\\n        else:\\n            pass\\n    return wrapper\\ndef say_whee():\\n    print(\"Whee!\")\\n\\nsay_whee = not_during_the_night(say_whee)',\n",
       "  'say_whee()',\n",
       "  'def my_decorator(func):\\n    def wrapper():\\n        print(\"Something is happening before the function is called.\")\\n        func()\\n        print(\"something is happening after the function is called.\")\\n    return wrapper\\n\\n@my_decorator\\ndef say_whee():\\n    print(\"Whee!\")',\n",
       "  'say_whee()',\n",
       "  'def do_twice(func):\\n    def wrapper_do_twice():\\n        func()\\n        func()\\n    return wrapper_do_twice\\n@do_twice\\ndef say_whee():\\n    print(\"Whee!\")',\n",
       "  'say_whee()',\n",
       "  '@do_twice\\ndef greet(name):\\n    print(f\"Hello {name})\\n          \\ngreet(\"World\")',\n",
       "  '@do_twice\\ndef greet(name):\\n    print(f\"Hello {name}\")\\n          \\ngreet(\"World\")',\n",
       "  'def do_twice(func):\\n    def wrapper_do_twice(*args,**kwargs):\\n        func(*args,**kwargs)\\n        func(*args,**kwargs)\\n    return wrapper_do_twice\\n@do_twice\\ndef say_whee():\\n    print(\"Whee!\")\\n\\n@do_twice\\ndef greet(name):\\n    print(f\"Hello {name}\")',\n",
       "  'say_whee()',\n",
       "  'greet(suman)',\n",
       "  'greet(\"suman\")',\n",
       "  '@do_twice\\ndef return_greeting(name):\\n    print(\"Creating greeting\")\\n    return f\"Hi {name}\"',\n",
       "  'hi_adam = return_greeting(\"Adam\")\\nhi_adam',\n",
       "  'def do_twice(func):\\n    def wrapper_do_twice(*args,**kwargs):\\n        func(*args,**kwargs)\\n        return func(*args,**kwargs)\\n    return wrapper_do_twice',\n",
       "  '@do_twice\\ndef return_greeting(name):\\n    print(\"Creating greeting\")\\n    return f\"Hi {name}\"',\n",
       "  'hi_adam = return_greeting(\"Adam\")\\nhi_adam',\n",
       "  'print',\n",
       "  'print.__name__',\n",
       "  'help(print)',\n",
       "  'say_whee',\n",
       "  'say_whee.__name__',\n",
       "  'help(say_whee)',\n",
       "  'import functools\\n\\ndef do_twice(func):\\n    @functools.wraps(func)\\n    def wrapper_do_twice(*args,**kwargs):\\n        func(*args,**kwargs)\\n        return func(*args,**kwargs)\\n    return wrapper_do_twice',\n",
       "  '@do_twice\\ndef say_whee():\\n    print(\"Whee!\")',\n",
       "  'say_whee',\n",
       "  'say_whee.__name__',\n",
       "  'help(say_whee)',\n",
       "  'import functools\\n\\ndef decorator(func):\\n    @functools.wraps(func)\\n    def wrapper_decorator(*args,**kwargs):\\n        #Do something before\\n        value = func(*args,**kwargs)\\n        #Do something after\\n        return value\\n    return wrapper_decorator\\n        \\n    ',\n",
       "  'import functools\\nimport time\\n\\ndef timer(func):\\n    \"\"\"Print the runtime of the decorated function\"\"\"\\n    @functools.wraps(func)\\n    def wrapper_timer(*args,**kwargs):\\n        start_time = time.perf_counter()\\n        value = func(*args,**kwargs)\\n        end_time = time.perf_counter()\\n        run_time = end_time-start_time\\n        print(f\"Finished {func.__name__!r} in {run_time:.4f} secs\")\\n        return value\\n    return wrapper_timer\\n@timer\\ndef waste_some_time(num_times):\\n    for _ in range(num_times):\\n        sum([i**2 for i in range(1000)])\\n        ',\n",
       "  'waste_some_time(1)',\n",
       "  'waste_some_time(999)',\n",
       "  'import functools\\n\\ndef debug(func):\\n    \"\"\"Print the function signature and return value\"\"\"\\n    @functools.wraps(func)\\n    def wrapper_debug(*args,**kwargs):\\n        args_repr = [repr(a) for a in args]\\n        kwargs_repr = [f\"{k}={v!r}\" for k,v in kwargs.items()]\\n        signature = \", \".join(args_repr + kwargs_repr)\\n        print(f\"Calling {func.__name__}({signature})\")\\n        value = func(*args,**kwargs)\\n        print(f\"{func.__name__!r} returned {value!r}\")\\n        return value\\n    return wrapper_debug\\n@debug\\ndef make_greeting(name, age=None):\\n    if age is None:\\n        return f\"Howdy {name}\"\\n    else:\\n        return f\"Whoa {name}! {age} already, you are growing up\"',\n",
       "  'make_greeting(\"Benjamin\")',\n",
       "  'make_greeting(\"Richard\", age=112)',\n",
       "  'make_greeting(name=\"Dorrisle\",age=116)',\n",
       "  'import math\\n\\nmath.factorial = debug(math.factorial)\\n\\ndef approximate_e(terms = 18):\\n    return sum(1/math.factorial(n) for n in range(terms))',\n",
       "  'approximate_e(5)',\n",
       "  'import functools\\nimport time\\n\\ndef slow_down(func):\\n    @functools.wrap(func)\\n    def wrapper_slow_down(*args,**kwargs):\\n        time.sleep(1)\\n        return func(*args,**kwargs)\\n    return wrapper_slow_down\\n@slow_down\\ndef countdown(from_number):\\n    if number_from < 1:\\n        print(\"Liftoff!\")\\n    else:\\n        print(from_number)\\n        countdown(from_number-1)\\n        ',\n",
       "  'import functools\\nimport time\\n\\ndef slow_down(func):\\n    @functools.wrap(func)\\n    def wrapper_slow_down(*args,**kwargs):\\n        time.sleep(1)\\n        return func(*args,**kwargs)\\n    return wrapper_slow_down\\n@slow_down\\ndef countdown(from_number):\\n    if number_from < 1:\\n        print(\"Liftoff!\")\\n    else:\\n        print(from_number)\\n        countdown(from_number-1)\\n        ',\n",
       "  'import functools\\nimport time\\n\\ndef slow_down(func):\\n    @functools.wraps(func)\\n    def wrapper_slow_down(*args,**kwargs):\\n        time.sleep(1)\\n        return func(*args,**kwargs)\\n    return wrapper_slow_down\\n@slow_down\\ndef countdown(from_number):\\n    if number_from < 1:\\n        print(\"Liftoff!\")\\n    else:\\n        print(from_number)\\n        countdown(from_number-1)\\n        ',\n",
       "  'countdown(3)',\n",
       "  'import functools\\nimport time\\n\\ndef slow_down(func):\\n    @functools.wraps(func)\\n    def wrapper_slow_down(*args,**kwargs):\\n        time.sleep(1)\\n        return func(*args,**kwargs)\\n    return wrapper_slow_down\\n@slow_down\\ndef countdown(from_number):\\n    if from_number < 1:\\n        print(\"Liftoff!\")\\n    else:\\n        print(from_number)\\n        countdown(from_number-1)\\n        ',\n",
       "  'countdown(3)',\n",
       "  'import random\\nPLUGINS = dict()\\n\\ndef register(func):\\n    \"\"\"Register a function as a plug-in\"\"\"\\n    PLUGINS[func.__name__] = func\\n    return func\\n\\n@register\\ndef say_hello(name):\\n    return f\"Hello {name}\"\\n\\n@register\\ndef be_awesome(name):\\n    return f\"Yo {name}, together we are the awesomest!\"\\n\\ndef randomly_greet(name):\\n    greeter,greeter_func = random.choice(list(PLUGINS.items()))\\n    print(f\"Using {greeter!r})\\n    return greeter_func(name)',\n",
       "  'import random\\nPLUGINS = dict()\\n\\ndef register(func):\\n    \"\"\"Register a function as a plug-in\"\"\"\\n    PLUGINS[func.__name__] = func\\n    return func\\n\\n@register\\ndef say_hello(name):\\n    return f\"Hello {name}\"\\n\\n@register\\ndef be_awesome(name):\\n    return f\"Yo {name}, together we are the awesomest!\"\\n\\ndef randomly_greet(name):\\n    greeter,greeter_func = random.choice(list(PLUGINS.items()))\\n    print(f\"Using {greeter!r}\")\\n    return greeter_func(name)',\n",
       "  'PLUGINS',\n",
       "  'randomly_greet(\"Alice\")',\n",
       "  'randomly_greet(\"Alice\")',\n",
       "  'randomly_greet(\"Alice\")',\n",
       "  'random.choice(list(PLUGINS.items()))',\n",
       "  'globals()'],\n",
       " '_oh': {1: 3,\n",
       "  3: 'Hello Bob',\n",
       "  4: 'Yo Bob, together we are the awesomest!',\n",
       "  9: <function __main__.parent.<locals>.first_child()>,\n",
       "  10: <function __main__.parent.<locals>.second_child()>,\n",
       "  11: 'Hi, i am Emma',\n",
       "  12: 'Call me Liam',\n",
       "  20: <function __main__.my_decorator.<locals>.wrapper()>,\n",
       "  37: 'Hi Adam',\n",
       "  38: <function print>,\n",
       "  39: 'print',\n",
       "  41: <function __main__.do_twice.<locals>.wrapper_do_twice(*args, **kwargs)>,\n",
       "  42: 'wrapper_do_twice',\n",
       "  46: <function __main__.say_whee()>,\n",
       "  47: 'say_whee',\n",
       "  54: 'Howdy Benjamin',\n",
       "  55: 'Whoa Richard! 112 already, you are growing up',\n",
       "  56: 'Whoa Dorrisle! 116 already, you are growing up',\n",
       "  58: 2.708333333333333,\n",
       "  67: {'say_hello': <function __main__.say_hello(name)>,\n",
       "   'be_awesome': <function __main__.be_awesome(name)>},\n",
       "  68: 'Hello Alice',\n",
       "  69: 'Hello Alice',\n",
       "  70: 'Yo Alice, together we are the awesomest!',\n",
       "  71: ('be_awesome', <function __main__.be_awesome(name)>)},\n",
       " '_dh': ['C:\\\\Users\\\\Rabi'],\n",
       " 'In': ['',\n",
       "  'def add_one(number):\\n    return number+1\\nadd_one(2)',\n",
       "  'def say_hello(name):\\n    return f\"Hello {name}\"\\n\\ndef be_awesome(name):\\n    return f\"Yo {name}, together we are the awesomest!\"\\n\\ndef greet_bob(greeter_func):\\n    return greeter_func(\"Bob\")',\n",
       "  'greet_bob(say_hello)',\n",
       "  'greet_bob(be_awesome)',\n",
       "  'def parent():\\n    print(\"Printing from the parent() function\")\\n    \\n    def first_child():\\n        print(\"Printing from the first_child() function\")\\n    \\n    def second_child():\\n        print(\"Printing from the second_child() function\")\\n        \\n    second_child()\\n    first_child()\\n    ',\n",
       "  'parent()',\n",
       "  'def parent(num):\\n    \\n    def first_child():\\n        return \"Hi, i am Emma\"\\n    \\n    def second_child():\\n        return \"Call me Liam\"\\n    \\n    if num == 1:\\n        return first_child\\n    else:\\n        return second_child',\n",
       "  'first=parent(1)\\nsecond=parent(2)',\n",
       "  'first',\n",
       "  'second',\n",
       "  'first()',\n",
       "  'second()',\n",
       "  'def my_decorator(func):\\n    def wrapper():\\n        print(\"Something is happening before the function is called.\")\\n        func()\\n        print(\"Something is happening after the function is called.\")\\n    return wrapper\\n    \\ndef say_whee():\\n    print(\"Whee!\")\\n\\nsay_whee = my_decorator(say_whee)',\n",
       "  'say_whee()',\n",
       "  'def my_decorator(func):\\n    def wrapper():\\n        print(\"Something is happening before the function is called.\")\\n        func()\\n        print(\"Something is happening after the function is called.\")\\n    return wrapper\\n    \\ndef say_whee():\\n    print(\"Whee!\")\\n    \\nsay_bye = my_decorator(say_whee)\\nsay_whee = my_decorator(say_whee)',\n",
       "  'say_whee()',\n",
       "  'say_bye()',\n",
       "  'say_bye = my_decorator(say_whee)',\n",
       "  'say_bye()',\n",
       "  'say_whee',\n",
       "  'from datetime import datetime\\n\\ndef not_during_the_night(func):\\n    def wrapper():\\n        if 7 <= datetime.now().hour < 22:\\n            func()\\n        else:\\n            pass\\n    return wrapper\\ndef say_whee():\\n    print(\"Whee!\")\\n\\nsay_whee = not_during_the_night(say_whee)',\n",
       "  'say_whee()',\n",
       "  'def my_decorator(func):\\n    def wrapper():\\n        print(\"Something is happening before the function is called.\")\\n        func()\\n        print(\"something is happening after the function is called.\")\\n    return wrapper\\n\\n@my_decorator\\ndef say_whee():\\n    print(\"Whee!\")',\n",
       "  'say_whee()',\n",
       "  'def do_twice(func):\\n    def wrapper_do_twice():\\n        func()\\n        func()\\n    return wrapper_do_twice\\n@do_twice\\ndef say_whee():\\n    print(\"Whee!\")',\n",
       "  'say_whee()',\n",
       "  '@do_twice\\ndef greet(name):\\n    print(f\"Hello {name})\\n          \\ngreet(\"World\")',\n",
       "  '@do_twice\\ndef greet(name):\\n    print(f\"Hello {name}\")\\n          \\ngreet(\"World\")',\n",
       "  'def do_twice(func):\\n    def wrapper_do_twice(*args,**kwargs):\\n        func(*args,**kwargs)\\n        func(*args,**kwargs)\\n    return wrapper_do_twice\\n@do_twice\\ndef say_whee():\\n    print(\"Whee!\")\\n\\n@do_twice\\ndef greet(name):\\n    print(f\"Hello {name}\")',\n",
       "  'say_whee()',\n",
       "  'greet(suman)',\n",
       "  'greet(\"suman\")',\n",
       "  '@do_twice\\ndef return_greeting(name):\\n    print(\"Creating greeting\")\\n    return f\"Hi {name}\"',\n",
       "  'hi_adam = return_greeting(\"Adam\")\\nhi_adam',\n",
       "  'def do_twice(func):\\n    def wrapper_do_twice(*args,**kwargs):\\n        func(*args,**kwargs)\\n        return func(*args,**kwargs)\\n    return wrapper_do_twice',\n",
       "  '@do_twice\\ndef return_greeting(name):\\n    print(\"Creating greeting\")\\n    return f\"Hi {name}\"',\n",
       "  'hi_adam = return_greeting(\"Adam\")\\nhi_adam',\n",
       "  'print',\n",
       "  'print.__name__',\n",
       "  'help(print)',\n",
       "  'say_whee',\n",
       "  'say_whee.__name__',\n",
       "  'help(say_whee)',\n",
       "  'import functools\\n\\ndef do_twice(func):\\n    @functools.wraps(func)\\n    def wrapper_do_twice(*args,**kwargs):\\n        func(*args,**kwargs)\\n        return func(*args,**kwargs)\\n    return wrapper_do_twice',\n",
       "  '@do_twice\\ndef say_whee():\\n    print(\"Whee!\")',\n",
       "  'say_whee',\n",
       "  'say_whee.__name__',\n",
       "  'help(say_whee)',\n",
       "  'import functools\\n\\ndef decorator(func):\\n    @functools.wraps(func)\\n    def wrapper_decorator(*args,**kwargs):\\n        #Do something before\\n        value = func(*args,**kwargs)\\n        #Do something after\\n        return value\\n    return wrapper_decorator\\n        \\n    ',\n",
       "  'import functools\\nimport time\\n\\ndef timer(func):\\n    \"\"\"Print the runtime of the decorated function\"\"\"\\n    @functools.wraps(func)\\n    def wrapper_timer(*args,**kwargs):\\n        start_time = time.perf_counter()\\n        value = func(*args,**kwargs)\\n        end_time = time.perf_counter()\\n        run_time = end_time-start_time\\n        print(f\"Finished {func.__name__!r} in {run_time:.4f} secs\")\\n        return value\\n    return wrapper_timer\\n@timer\\ndef waste_some_time(num_times):\\n    for _ in range(num_times):\\n        sum([i**2 for i in range(1000)])\\n        ',\n",
       "  'waste_some_time(1)',\n",
       "  'waste_some_time(999)',\n",
       "  'import functools\\n\\ndef debug(func):\\n    \"\"\"Print the function signature and return value\"\"\"\\n    @functools.wraps(func)\\n    def wrapper_debug(*args,**kwargs):\\n        args_repr = [repr(a) for a in args]\\n        kwargs_repr = [f\"{k}={v!r}\" for k,v in kwargs.items()]\\n        signature = \", \".join(args_repr + kwargs_repr)\\n        print(f\"Calling {func.__name__}({signature})\")\\n        value = func(*args,**kwargs)\\n        print(f\"{func.__name__!r} returned {value!r}\")\\n        return value\\n    return wrapper_debug\\n@debug\\ndef make_greeting(name, age=None):\\n    if age is None:\\n        return f\"Howdy {name}\"\\n    else:\\n        return f\"Whoa {name}! {age} already, you are growing up\"',\n",
       "  'make_greeting(\"Benjamin\")',\n",
       "  'make_greeting(\"Richard\", age=112)',\n",
       "  'make_greeting(name=\"Dorrisle\",age=116)',\n",
       "  'import math\\n\\nmath.factorial = debug(math.factorial)\\n\\ndef approximate_e(terms = 18):\\n    return sum(1/math.factorial(n) for n in range(terms))',\n",
       "  'approximate_e(5)',\n",
       "  'import functools\\nimport time\\n\\ndef slow_down(func):\\n    @functools.wrap(func)\\n    def wrapper_slow_down(*args,**kwargs):\\n        time.sleep(1)\\n        return func(*args,**kwargs)\\n    return wrapper_slow_down\\n@slow_down\\ndef countdown(from_number):\\n    if number_from < 1:\\n        print(\"Liftoff!\")\\n    else:\\n        print(from_number)\\n        countdown(from_number-1)\\n        ',\n",
       "  'import functools\\nimport time\\n\\ndef slow_down(func):\\n    @functools.wrap(func)\\n    def wrapper_slow_down(*args,**kwargs):\\n        time.sleep(1)\\n        return func(*args,**kwargs)\\n    return wrapper_slow_down\\n@slow_down\\ndef countdown(from_number):\\n    if number_from < 1:\\n        print(\"Liftoff!\")\\n    else:\\n        print(from_number)\\n        countdown(from_number-1)\\n        ',\n",
       "  'import functools\\nimport time\\n\\ndef slow_down(func):\\n    @functools.wraps(func)\\n    def wrapper_slow_down(*args,**kwargs):\\n        time.sleep(1)\\n        return func(*args,**kwargs)\\n    return wrapper_slow_down\\n@slow_down\\ndef countdown(from_number):\\n    if number_from < 1:\\n        print(\"Liftoff!\")\\n    else:\\n        print(from_number)\\n        countdown(from_number-1)\\n        ',\n",
       "  'countdown(3)',\n",
       "  'import functools\\nimport time\\n\\ndef slow_down(func):\\n    @functools.wraps(func)\\n    def wrapper_slow_down(*args,**kwargs):\\n        time.sleep(1)\\n        return func(*args,**kwargs)\\n    return wrapper_slow_down\\n@slow_down\\ndef countdown(from_number):\\n    if from_number < 1:\\n        print(\"Liftoff!\")\\n    else:\\n        print(from_number)\\n        countdown(from_number-1)\\n        ',\n",
       "  'countdown(3)',\n",
       "  'import random\\nPLUGINS = dict()\\n\\ndef register(func):\\n    \"\"\"Register a function as a plug-in\"\"\"\\n    PLUGINS[func.__name__] = func\\n    return func\\n\\n@register\\ndef say_hello(name):\\n    return f\"Hello {name}\"\\n\\n@register\\ndef be_awesome(name):\\n    return f\"Yo {name}, together we are the awesomest!\"\\n\\ndef randomly_greet(name):\\n    greeter,greeter_func = random.choice(list(PLUGINS.items()))\\n    print(f\"Using {greeter!r})\\n    return greeter_func(name)',\n",
       "  'import random\\nPLUGINS = dict()\\n\\ndef register(func):\\n    \"\"\"Register a function as a plug-in\"\"\"\\n    PLUGINS[func.__name__] = func\\n    return func\\n\\n@register\\ndef say_hello(name):\\n    return f\"Hello {name}\"\\n\\n@register\\ndef be_awesome(name):\\n    return f\"Yo {name}, together we are the awesomest!\"\\n\\ndef randomly_greet(name):\\n    greeter,greeter_func = random.choice(list(PLUGINS.items()))\\n    print(f\"Using {greeter!r}\")\\n    return greeter_func(name)',\n",
       "  'PLUGINS',\n",
       "  'randomly_greet(\"Alice\")',\n",
       "  'randomly_greet(\"Alice\")',\n",
       "  'randomly_greet(\"Alice\")',\n",
       "  'random.choice(list(PLUGINS.items()))',\n",
       "  'globals()'],\n",
       " 'Out': {1: 3,\n",
       "  3: 'Hello Bob',\n",
       "  4: 'Yo Bob, together we are the awesomest!',\n",
       "  9: <function __main__.parent.<locals>.first_child()>,\n",
       "  10: <function __main__.parent.<locals>.second_child()>,\n",
       "  11: 'Hi, i am Emma',\n",
       "  12: 'Call me Liam',\n",
       "  20: <function __main__.my_decorator.<locals>.wrapper()>,\n",
       "  37: 'Hi Adam',\n",
       "  38: <function print>,\n",
       "  39: 'print',\n",
       "  41: <function __main__.do_twice.<locals>.wrapper_do_twice(*args, **kwargs)>,\n",
       "  42: 'wrapper_do_twice',\n",
       "  46: <function __main__.say_whee()>,\n",
       "  47: 'say_whee',\n",
       "  54: 'Howdy Benjamin',\n",
       "  55: 'Whoa Richard! 112 already, you are growing up',\n",
       "  56: 'Whoa Dorrisle! 116 already, you are growing up',\n",
       "  58: 2.708333333333333,\n",
       "  67: {'say_hello': <function __main__.say_hello(name)>,\n",
       "   'be_awesome': <function __main__.be_awesome(name)>},\n",
       "  68: 'Hello Alice',\n",
       "  69: 'Hello Alice',\n",
       "  70: 'Yo Alice, together we are the awesomest!',\n",
       "  71: ('be_awesome', <function __main__.be_awesome(name)>)},\n",
       " 'get_ipython': <bound method InteractiveShell.get_ipython of <ipykernel.zmqshell.ZMQInteractiveShell object at 0x0000024A0564C808>>,\n",
       " 'exit': <IPython.core.autocall.ZMQExitAutocall at 0x24a05658948>,\n",
       " 'quit': <IPython.core.autocall.ZMQExitAutocall at 0x24a05658948>,\n",
       " '_': ('be_awesome', <function __main__.be_awesome(name)>),\n",
       " '__': 'Yo Alice, together we are the awesomest!',\n",
       " '___': 'Hello Alice',\n",
       " '_i': 'random.choice(list(PLUGINS.items()))',\n",
       " '_ii': 'randomly_greet(\"Alice\")',\n",
       " '_iii': 'randomly_greet(\"Alice\")',\n",
       " '_i1': 'def add_one(number):\\n    return number+1\\nadd_one(2)',\n",
       " 'add_one': <function __main__.add_one(number)>,\n",
       " '_1': 3,\n",
       " '_i2': 'def say_hello(name):\\n    return f\"Hello {name}\"\\n\\ndef be_awesome(name):\\n    return f\"Yo {name}, together we are the awesomest!\"\\n\\ndef greet_bob(greeter_func):\\n    return greeter_func(\"Bob\")',\n",
       " 'say_hello': <function __main__.say_hello(name)>,\n",
       " 'be_awesome': <function __main__.be_awesome(name)>,\n",
       " 'greet_bob': <function __main__.greet_bob(greeter_func)>,\n",
       " '_i3': 'greet_bob(say_hello)',\n",
       " '_3': 'Hello Bob',\n",
       " '_i4': 'greet_bob(be_awesome)',\n",
       " '_4': 'Yo Bob, together we are the awesomest!',\n",
       " '_i5': 'def parent():\\n    print(\"Printing from the parent() function\")\\n    \\n    def first_child():\\n        print(\"Printing from the first_child() function\")\\n    \\n    def second_child():\\n        print(\"Printing from the second_child() function\")\\n        \\n    second_child()\\n    first_child()\\n    ',\n",
       " 'parent': <function __main__.parent(num)>,\n",
       " '_i6': 'parent()',\n",
       " '_i7': 'def parent(num):\\n    \\n    def first_child():\\n        return \"Hi, i am Emma\"\\n    \\n    def second_child():\\n        return \"Call me Liam\"\\n    \\n    if num == 1:\\n        return first_child\\n    else:\\n        return second_child',\n",
       " '_i8': 'first=parent(1)\\nsecond=parent(2)',\n",
       " 'first': <function __main__.parent.<locals>.first_child()>,\n",
       " 'second': <function __main__.parent.<locals>.second_child()>,\n",
       " '_i9': 'first',\n",
       " '_9': <function __main__.parent.<locals>.first_child()>,\n",
       " '_i10': 'second',\n",
       " '_10': <function __main__.parent.<locals>.second_child()>,\n",
       " '_i11': 'first()',\n",
       " '_11': 'Hi, i am Emma',\n",
       " '_i12': 'second()',\n",
       " '_12': 'Call me Liam',\n",
       " '_i13': 'def my_decorator(func):\\n    def wrapper():\\n        print(\"Something is happening before the function is called.\")\\n        func()\\n        print(\"Something is happening after the function is called.\")\\n    return wrapper\\n    \\ndef say_whee():\\n    print(\"Whee!\")\\n\\nsay_whee = my_decorator(say_whee)',\n",
       " 'my_decorator': <function __main__.my_decorator(func)>,\n",
       " 'say_whee': <function __main__.say_whee()>,\n",
       " '_i14': 'say_whee()',\n",
       " '_i15': 'def my_decorator(func):\\n    def wrapper():\\n        print(\"Something is happening before the function is called.\")\\n        func()\\n        print(\"Something is happening after the function is called.\")\\n    return wrapper\\n    \\ndef say_whee():\\n    print(\"Whee!\")\\n    \\nsay_bye = my_decorator(say_whee)\\nsay_whee = my_decorator(say_whee)',\n",
       " 'say_bye': <function __main__.my_decorator.<locals>.wrapper()>,\n",
       " '_i16': 'say_whee()',\n",
       " '_i17': 'say_bye()',\n",
       " '_i18': 'say_bye = my_decorator(say_whee)',\n",
       " '_i19': 'say_bye()',\n",
       " '_i20': 'say_whee',\n",
       " '_20': <function __main__.my_decorator.<locals>.wrapper()>,\n",
       " '_i21': 'from datetime import datetime\\n\\ndef not_during_the_night(func):\\n    def wrapper():\\n        if 7 <= datetime.now().hour < 22:\\n            func()\\n        else:\\n            pass\\n    return wrapper\\ndef say_whee():\\n    print(\"Whee!\")\\n\\nsay_whee = not_during_the_night(say_whee)',\n",
       " 'datetime': datetime.datetime,\n",
       " 'not_during_the_night': <function __main__.not_during_the_night(func)>,\n",
       " '_i22': 'say_whee()',\n",
       " '_i23': 'def my_decorator(func):\\n    def wrapper():\\n        print(\"Something is happening before the function is called.\")\\n        func()\\n        print(\"something is happening after the function is called.\")\\n    return wrapper\\n\\n@my_decorator\\ndef say_whee():\\n    print(\"Whee!\")',\n",
       " '_i24': 'say_whee()',\n",
       " '_i25': 'def do_twice(func):\\n    def wrapper_do_twice():\\n        func()\\n        func()\\n    return wrapper_do_twice\\n@do_twice\\ndef say_whee():\\n    print(\"Whee!\")',\n",
       " 'do_twice': <function __main__.do_twice(func)>,\n",
       " '_i26': 'say_whee()',\n",
       " '_i27': '@do_twice\\ndef greet(name):\\n    print(f\"Hello {name})\\n          \\ngreet(\"World\")',\n",
       " '_i28': '@do_twice\\ndef greet(name):\\n    print(f\"Hello {name}\")\\n          \\ngreet(\"World\")',\n",
       " 'greet': <function __main__.do_twice.<locals>.wrapper_do_twice(*args, **kwargs)>,\n",
       " '_i29': 'def do_twice(func):\\n    def wrapper_do_twice(*args,**kwargs):\\n        func(*args,**kwargs)\\n        func(*args,**kwargs)\\n    return wrapper_do_twice\\n@do_twice\\ndef say_whee():\\n    print(\"Whee!\")\\n\\n@do_twice\\ndef greet(name):\\n    print(f\"Hello {name}\")',\n",
       " '_i30': 'say_whee()',\n",
       " '_i31': 'greet(suman)',\n",
       " '_i32': 'greet(\"suman\")',\n",
       " '_i33': '@do_twice\\ndef return_greeting(name):\\n    print(\"Creating greeting\")\\n    return f\"Hi {name}\"',\n",
       " 'return_greeting': <function __main__.do_twice.<locals>.wrapper_do_twice(*args, **kwargs)>,\n",
       " '_i34': 'hi_adam = return_greeting(\"Adam\")\\nhi_adam',\n",
       " 'hi_adam': 'Hi Adam',\n",
       " '_i35': 'def do_twice(func):\\n    def wrapper_do_twice(*args,**kwargs):\\n        func(*args,**kwargs)\\n        return func(*args,**kwargs)\\n    return wrapper_do_twice',\n",
       " '_i36': '@do_twice\\ndef return_greeting(name):\\n    print(\"Creating greeting\")\\n    return f\"Hi {name}\"',\n",
       " '_i37': 'hi_adam = return_greeting(\"Adam\")\\nhi_adam',\n",
       " '_37': 'Hi Adam',\n",
       " '_i38': 'print',\n",
       " '_38': <function print>,\n",
       " '_i39': 'print.__name__',\n",
       " '_39': 'print',\n",
       " '_i40': 'help(print)',\n",
       " '_i41': 'say_whee',\n",
       " '_41': <function __main__.do_twice.<locals>.wrapper_do_twice(*args, **kwargs)>,\n",
       " '_i42': 'say_whee.__name__',\n",
       " '_42': 'wrapper_do_twice',\n",
       " '_i43': 'help(say_whee)',\n",
       " '_i44': 'import functools\\n\\ndef do_twice(func):\\n    @functools.wraps(func)\\n    def wrapper_do_twice(*args,**kwargs):\\n        func(*args,**kwargs)\\n        return func(*args,**kwargs)\\n    return wrapper_do_twice',\n",
       " 'functools': <module 'functools' from 'c:\\\\users\\\\rabi\\\\appdata\\\\local\\\\programs\\\\python\\\\python37\\\\lib\\\\functools.py'>,\n",
       " '_i45': '@do_twice\\ndef say_whee():\\n    print(\"Whee!\")',\n",
       " '_i46': 'say_whee',\n",
       " '_46': <function __main__.say_whee()>,\n",
       " '_i47': 'say_whee.__name__',\n",
       " '_47': 'say_whee',\n",
       " '_i48': 'help(say_whee)',\n",
       " '_i49': 'import functools\\n\\ndef decorator(func):\\n    @functools.wraps(func)\\n    def wrapper_decorator(*args,**kwargs):\\n        #Do something before\\n        value = func(*args,**kwargs)\\n        #Do something after\\n        return value\\n    return wrapper_decorator\\n        \\n    ',\n",
       " 'decorator': <function __main__.decorator(func)>,\n",
       " '_i50': 'import functools\\nimport time\\n\\ndef timer(func):\\n    \"\"\"Print the runtime of the decorated function\"\"\"\\n    @functools.wraps(func)\\n    def wrapper_timer(*args,**kwargs):\\n        start_time = time.perf_counter()\\n        value = func(*args,**kwargs)\\n        end_time = time.perf_counter()\\n        run_time = end_time-start_time\\n        print(f\"Finished {func.__name__!r} in {run_time:.4f} secs\")\\n        return value\\n    return wrapper_timer\\n@timer\\ndef waste_some_time(num_times):\\n    for _ in range(num_times):\\n        sum([i**2 for i in range(1000)])\\n        ',\n",
       " 'time': <module 'time' (built-in)>,\n",
       " 'timer': <function __main__.timer(func)>,\n",
       " 'waste_some_time': <function __main__.waste_some_time(num_times)>,\n",
       " '_i51': 'waste_some_time(1)',\n",
       " '_i52': 'waste_some_time(999)',\n",
       " '_i53': 'import functools\\n\\ndef debug(func):\\n    \"\"\"Print the function signature and return value\"\"\"\\n    @functools.wraps(func)\\n    def wrapper_debug(*args,**kwargs):\\n        args_repr = [repr(a) for a in args]\\n        kwargs_repr = [f\"{k}={v!r}\" for k,v in kwargs.items()]\\n        signature = \", \".join(args_repr + kwargs_repr)\\n        print(f\"Calling {func.__name__}({signature})\")\\n        value = func(*args,**kwargs)\\n        print(f\"{func.__name__!r} returned {value!r}\")\\n        return value\\n    return wrapper_debug\\n@debug\\ndef make_greeting(name, age=None):\\n    if age is None:\\n        return f\"Howdy {name}\"\\n    else:\\n        return f\"Whoa {name}! {age} already, you are growing up\"',\n",
       " 'debug': <function __main__.debug(func)>,\n",
       " 'make_greeting': <function __main__.make_greeting(name, age=None)>,\n",
       " '_i54': 'make_greeting(\"Benjamin\")',\n",
       " '_54': 'Howdy Benjamin',\n",
       " '_i55': 'make_greeting(\"Richard\", age=112)',\n",
       " '_55': 'Whoa Richard! 112 already, you are growing up',\n",
       " '_i56': 'make_greeting(name=\"Dorrisle\",age=116)',\n",
       " '_56': 'Whoa Dorrisle! 116 already, you are growing up',\n",
       " '_i57': 'import math\\n\\nmath.factorial = debug(math.factorial)\\n\\ndef approximate_e(terms = 18):\\n    return sum(1/math.factorial(n) for n in range(terms))',\n",
       " 'math': <module 'math' (built-in)>,\n",
       " 'approximate_e': <function __main__.approximate_e(terms=18)>,\n",
       " '_i58': 'approximate_e(5)',\n",
       " '_58': 2.708333333333333,\n",
       " '_i59': 'import functools\\nimport time\\n\\ndef slow_down(func):\\n    @functools.wrap(func)\\n    def wrapper_slow_down(*args,**kwargs):\\n        time.sleep(1)\\n        return func(*args,**kwargs)\\n    return wrapper_slow_down\\n@slow_down\\ndef countdown(from_number):\\n    if number_from < 1:\\n        print(\"Liftoff!\")\\n    else:\\n        print(from_number)\\n        countdown(from_number-1)\\n        ',\n",
       " 'slow_down': <function __main__.slow_down(func)>,\n",
       " '_i60': 'import functools\\nimport time\\n\\ndef slow_down(func):\\n    @functools.wrap(func)\\n    def wrapper_slow_down(*args,**kwargs):\\n        time.sleep(1)\\n        return func(*args,**kwargs)\\n    return wrapper_slow_down\\n@slow_down\\ndef countdown(from_number):\\n    if number_from < 1:\\n        print(\"Liftoff!\")\\n    else:\\n        print(from_number)\\n        countdown(from_number-1)\\n        ',\n",
       " '_i61': 'import functools\\nimport time\\n\\ndef slow_down(func):\\n    @functools.wraps(func)\\n    def wrapper_slow_down(*args,**kwargs):\\n        time.sleep(1)\\n        return func(*args,**kwargs)\\n    return wrapper_slow_down\\n@slow_down\\ndef countdown(from_number):\\n    if number_from < 1:\\n        print(\"Liftoff!\")\\n    else:\\n        print(from_number)\\n        countdown(from_number-1)\\n        ',\n",
       " 'countdown': <function __main__.countdown(from_number)>,\n",
       " '_i62': 'countdown(3)',\n",
       " '_i63': 'import functools\\nimport time\\n\\ndef slow_down(func):\\n    @functools.wraps(func)\\n    def wrapper_slow_down(*args,**kwargs):\\n        time.sleep(1)\\n        return func(*args,**kwargs)\\n    return wrapper_slow_down\\n@slow_down\\ndef countdown(from_number):\\n    if from_number < 1:\\n        print(\"Liftoff!\")\\n    else:\\n        print(from_number)\\n        countdown(from_number-1)\\n        ',\n",
       " '_i64': 'countdown(3)',\n",
       " '_i65': 'import random\\nPLUGINS = dict()\\n\\ndef register(func):\\n    \"\"\"Register a function as a plug-in\"\"\"\\n    PLUGINS[func.__name__] = func\\n    return func\\n\\n@register\\ndef say_hello(name):\\n    return f\"Hello {name}\"\\n\\n@register\\ndef be_awesome(name):\\n    return f\"Yo {name}, together we are the awesomest!\"\\n\\ndef randomly_greet(name):\\n    greeter,greeter_func = random.choice(list(PLUGINS.items()))\\n    print(f\"Using {greeter!r})\\n    return greeter_func(name)',\n",
       " '_i66': 'import random\\nPLUGINS = dict()\\n\\ndef register(func):\\n    \"\"\"Register a function as a plug-in\"\"\"\\n    PLUGINS[func.__name__] = func\\n    return func\\n\\n@register\\ndef say_hello(name):\\n    return f\"Hello {name}\"\\n\\n@register\\ndef be_awesome(name):\\n    return f\"Yo {name}, together we are the awesomest!\"\\n\\ndef randomly_greet(name):\\n    greeter,greeter_func = random.choice(list(PLUGINS.items()))\\n    print(f\"Using {greeter!r}\")\\n    return greeter_func(name)',\n",
       " 'random': <module 'random' from 'c:\\\\users\\\\rabi\\\\appdata\\\\local\\\\programs\\\\python\\\\python37\\\\lib\\\\random.py'>,\n",
       " 'PLUGINS': {'say_hello': <function __main__.say_hello(name)>,\n",
       "  'be_awesome': <function __main__.be_awesome(name)>},\n",
       " 'register': <function __main__.register(func)>,\n",
       " 'randomly_greet': <function __main__.randomly_greet(name)>,\n",
       " '_i67': 'PLUGINS',\n",
       " '_67': {'say_hello': <function __main__.say_hello(name)>,\n",
       "  'be_awesome': <function __main__.be_awesome(name)>},\n",
       " '_i68': 'randomly_greet(\"Alice\")',\n",
       " '_68': 'Hello Alice',\n",
       " '_i69': 'randomly_greet(\"Alice\")',\n",
       " '_69': 'Hello Alice',\n",
       " '_i70': 'randomly_greet(\"Alice\")',\n",
       " '_70': 'Yo Alice, together we are the awesomest!',\n",
       " '_i71': 'random.choice(list(PLUGINS.items()))',\n",
       " '_71': ('be_awesome', <function __main__.be_awesome(name)>),\n",
       " '_i72': 'globals()'}"
      ]
     },
     "execution_count": 72,
     "metadata": {},
     "output_type": "execute_result"
    }
   ],
   "source": [
    "globals()"
   ]
  },
  {
   "cell_type": "code",
   "execution_count": 76,
   "metadata": {},
   "outputs": [],
   "source": [
    "cls??\n"
   ]
  },
  {
   "cell_type": "code",
   "execution_count": null,
   "metadata": {},
   "outputs": [],
   "source": []
  }
 ],
 "metadata": {
  "kernelspec": {
   "display_name": "Python 3",
   "language": "python",
   "name": "python3"
  },
  "language_info": {
   "codemirror_mode": {
    "name": "ipython",
    "version": 3
   },
   "file_extension": ".py",
   "mimetype": "text/x-python",
   "name": "python",
   "nbconvert_exporter": "python",
   "pygments_lexer": "ipython3",
   "version": "3.7.4"
  }
 },
 "nbformat": 4,
 "nbformat_minor": 2
}
